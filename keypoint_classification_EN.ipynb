{
 "cells": [
  {
   "cell_type": "code",
   "execution_count": 1,
   "metadata": {
    "id": "igMyGnjE9hEp",
    "scrolled": true
   },
   "outputs": [],
   "source": [
    "import csv\n",
    "\n",
    "import numpy as np\n",
    "import tensorflow as tf\n",
    "from sklearn.model_selection import train_test_split\n",
    "\n",
    "RANDOM_SEED = 42"
   ]
  },
  {
   "cell_type": "markdown",
   "metadata": {
    "id": "t2HDvhIu9hEr"
   },
   "source": [
    "# Specify each path"
   ]
  },
  {
   "cell_type": "code",
   "execution_count": 2,
   "metadata": {
    "id": "9NvZP2Zn9hEy"
   },
   "outputs": [],
   "source": [
    "dataset = 'model/keypoint_classifier/keypoint.csv'\n",
    "model_save_path = 'model/keypoint_classifier/keypoint_classifier.hdf5'\n",
    "tflite_save_path = 'model/keypoint_classifier/keypoint_classifier.tflite'"
   ]
  },
  {
   "cell_type": "markdown",
   "metadata": {
    "id": "s5oMH7x19hEz"
   },
   "source": [
    "# Set number of classes"
   ]
  },
  {
   "cell_type": "code",
   "execution_count": 3,
   "metadata": {
    "id": "du4kodXL9hEz"
   },
   "outputs": [],
   "source": [
    "NUM_CLASSES = 6"
   ]
  },
  {
   "cell_type": "markdown",
   "metadata": {
    "id": "XjnL0uso9hEz"
   },
   "source": [
    "# Dataset reading"
   ]
  },
  {
   "cell_type": "code",
   "execution_count": 4,
   "metadata": {
    "id": "QT5ZqtEz9hE0"
   },
   "outputs": [],
   "source": [
    "X_dataset = np.loadtxt(dataset, delimiter=',', dtype='float32', usecols=list(range(1, (21 * 2) + 1)))"
   ]
  },
  {
   "cell_type": "code",
   "execution_count": 5,
   "metadata": {
    "id": "QmoKFsp49hE0"
   },
   "outputs": [],
   "source": [
    "y_dataset = np.loadtxt(dataset, delimiter=',', dtype='int32', usecols=(0))"
   ]
  },
  {
   "cell_type": "code",
   "execution_count": 6,
   "metadata": {
    "id": "xQU7JTZ_9hE0"
   },
   "outputs": [],
   "source": [
    "X_train, X_test, y_train, y_test = train_test_split(X_dataset, y_dataset, train_size=0.75, random_state=RANDOM_SEED)"
   ]
  },
  {
   "cell_type": "markdown",
   "metadata": {
    "id": "mxK_lETT9hE0"
   },
   "source": [
    "# Model building"
   ]
  },
  {
   "cell_type": "code",
   "execution_count": 7,
   "metadata": {
    "id": "vHBmUf1t9hE1"
   },
   "outputs": [],
   "source": [
    "model = tf.keras.models.Sequential([\n",
    "    tf.keras.layers.Input((21 * 2, )),\n",
    "    tf.keras.layers.Dropout(0.2),\n",
    "    tf.keras.layers.Dense(20, activation='relu'),\n",
    "    tf.keras.layers.Dropout(0.4),\n",
    "    tf.keras.layers.Dense(10, activation='relu'),\n",
    "    tf.keras.layers.Dense(NUM_CLASSES, activation='softmax')\n",
    "])"
   ]
  },
  {
   "cell_type": "code",
   "execution_count": 8,
   "metadata": {
    "colab": {
     "base_uri": "https://localhost:8080/"
    },
    "id": "ypqky9tc9hE1",
    "outputId": "5db082bb-30e3-4110-bf63-a1ee777ecd46"
   },
   "outputs": [
    {
     "name": "stdout",
     "output_type": "stream",
     "text": [
      "Model: \"sequential\"\n",
      "_________________________________________________________________\n",
      " Layer (type)                Output Shape              Param #   \n",
      "=================================================================\n",
      " dropout (Dropout)           (None, 42)                0         \n",
      "                                                                 \n",
      " dense (Dense)               (None, 20)                860       \n",
      "                                                                 \n",
      " dropout_1 (Dropout)         (None, 20)                0         \n",
      "                                                                 \n",
      " dense_1 (Dense)             (None, 10)                210       \n",
      "                                                                 \n",
      " dense_2 (Dense)             (None, 6)                 66        \n",
      "                                                                 \n",
      "=================================================================\n",
      "Total params: 1136 (4.44 KB)\n",
      "Trainable params: 1136 (4.44 KB)\n",
      "Non-trainable params: 0 (0.00 Byte)\n",
      "_________________________________________________________________\n"
     ]
    }
   ],
   "source": [
    "model.summary()  # tf.keras.utils.plot_model(model, show_shapes=True)"
   ]
  },
  {
   "cell_type": "code",
   "execution_count": 9,
   "metadata": {
    "id": "MbMjOflQ9hE1"
   },
   "outputs": [],
   "source": [
    "# Model checkpoint callback\n",
    "cp_callback = tf.keras.callbacks.ModelCheckpoint(\n",
    "    model_save_path, verbose=1, save_weights_only=False)\n",
    "# Callback for early stopping\n",
    "es_callback = tf.keras.callbacks.EarlyStopping(patience=20, verbose=1)"
   ]
  },
  {
   "cell_type": "code",
   "execution_count": 10,
   "metadata": {
    "id": "c3Dac0M_9hE2"
   },
   "outputs": [],
   "source": [
    "# Model compilation\n",
    "model.compile(\n",
    "    optimizer='adam',\n",
    "    loss='sparse_categorical_crossentropy',\n",
    "    metrics=['accuracy']\n",
    ")"
   ]
  },
  {
   "cell_type": "markdown",
   "metadata": {
    "id": "7XI0j1Iu9hE2"
   },
   "source": [
    "# Model training"
   ]
  },
  {
   "cell_type": "code",
   "execution_count": 11,
   "metadata": {
    "colab": {
     "base_uri": "https://localhost:8080/"
    },
    "id": "WirBl-JE9hE3",
    "outputId": "71b30ca2-8294-4d9d-8aa2-800d90d399de",
    "scrolled": true
   },
   "outputs": [
    {
     "name": "stdout",
     "output_type": "stream",
     "text": [
      "Epoch 1/1000\n",
      "28/54 [==============>...............] - ETA: 0s - loss: 1.8356 - accuracy: 0.1906 \n",
      "Epoch 1: saving model to model/keypoint_classifier\\keypoint_classifier.hdf5\n",
      "54/54 [==============================] - 1s 7ms/step - loss: 1.8093 - accuracy: 0.2042 - val_loss: 1.6970 - val_accuracy: 0.4260\n",
      "Epoch 2/1000\n",
      "31/54 [================>.............] - ETA: 0s - loss: 1.7278 - accuracy: 0.2704\n",
      "Epoch 2: saving model to model/keypoint_classifier\\keypoint_classifier.hdf5\n",
      "54/54 [==============================] - 0s 3ms/step - loss: 1.7081 - accuracy: 0.2799 - val_loss: 1.5482 - val_accuracy: 0.7128\n"
     ]
    },
    {
     "name": "stderr",
     "output_type": "stream",
     "text": [
      "C:\\Users\\Nguyen Ngoc Huy\\AppData\\Local\\Programs\\Python\\Python311\\Lib\\site-packages\\keras\\src\\engine\\training.py:3000: UserWarning: You are saving your model as an HDF5 file via `model.save()`. This file format is considered legacy. We recommend using instead the native Keras format, e.g. `model.save('my_model.keras')`.\n",
      "  saving_api.save_model(\n"
     ]
    },
    {
     "name": "stdout",
     "output_type": "stream",
     "text": [
      "Epoch 3/1000\n",
      "30/54 [===============>..............] - ETA: 0s - loss: 1.6407 - accuracy: 0.3370\n",
      "Epoch 3: saving model to model/keypoint_classifier\\keypoint_classifier.hdf5\n",
      "54/54 [==============================] - 0s 3ms/step - loss: 1.6107 - accuracy: 0.3546 - val_loss: 1.3718 - val_accuracy: 0.8217\n",
      "Epoch 4/1000\n",
      "29/54 [===============>..............] - ETA: 0s - loss: 1.5137 - accuracy: 0.4103\n",
      "Epoch 4: saving model to model/keypoint_classifier\\keypoint_classifier.hdf5\n",
      "54/54 [==============================] - 0s 3ms/step - loss: 1.4839 - accuracy: 0.4201 - val_loss: 1.1748 - val_accuracy: 0.8472\n",
      "Epoch 5/1000\n",
      "40/54 [=====================>........] - ETA: 0s - loss: 1.3763 - accuracy: 0.4607\n",
      "Epoch 5: saving model to model/keypoint_classifier\\keypoint_classifier.hdf5\n",
      "54/54 [==============================] - 0s 3ms/step - loss: 1.3720 - accuracy: 0.4579 - val_loss: 0.9998 - val_accuracy: 0.8472\n",
      "Epoch 6/1000\n",
      "28/54 [==============>...............] - ETA: 0s - loss: 1.3211 - accuracy: 0.4668\n",
      "Epoch 6: saving model to model/keypoint_classifier\\keypoint_classifier.hdf5\n",
      "54/54 [==============================] - 0s 3ms/step - loss: 1.2918 - accuracy: 0.4897 - val_loss: 0.8745 - val_accuracy: 0.8656\n",
      "Epoch 7/1000\n",
      "31/54 [================>.............] - ETA: 0s - loss: 1.2520 - accuracy: 0.5008\n",
      "Epoch 7: saving model to model/keypoint_classifier\\keypoint_classifier.hdf5\n",
      "54/54 [==============================] - 0s 3ms/step - loss: 1.2378 - accuracy: 0.5081 - val_loss: 0.8023 - val_accuracy: 0.8700\n",
      "Epoch 8/1000\n",
      "30/54 [===============>..............] - ETA: 0s - loss: 1.1812 - accuracy: 0.5211\n",
      "Epoch 8: saving model to model/keypoint_classifier\\keypoint_classifier.hdf5\n",
      "54/54 [==============================] - 0s 3ms/step - loss: 1.1677 - accuracy: 0.5272 - val_loss: 0.7321 - val_accuracy: 0.9253\n",
      "Epoch 9/1000\n",
      "29/54 [===============>..............] - ETA: 0s - loss: 1.1459 - accuracy: 0.5339\n",
      "Epoch 9: saving model to model/keypoint_classifier\\keypoint_classifier.hdf5\n",
      "54/54 [==============================] - 0s 3ms/step - loss: 1.1324 - accuracy: 0.5412 - val_loss: 0.6812 - val_accuracy: 0.9416\n",
      "Epoch 10/1000\n",
      "37/54 [===================>..........] - ETA: 0s - loss: 1.1034 - accuracy: 0.5589\n",
      "Epoch 10: saving model to model/keypoint_classifier\\keypoint_classifier.hdf5\n",
      "54/54 [==============================] - 0s 3ms/step - loss: 1.0968 - accuracy: 0.5610 - val_loss: 0.6490 - val_accuracy: 0.9407\n",
      "Epoch 11/1000\n",
      "23/54 [===========>..................] - ETA: 0s - loss: 1.0672 - accuracy: 0.5812\n",
      "Epoch 11: saving model to model/keypoint_classifier\\keypoint_classifier.hdf5\n",
      "54/54 [==============================] - 0s 3ms/step - loss: 1.0614 - accuracy: 0.5791 - val_loss: 0.6056 - val_accuracy: 0.9372\n",
      "Epoch 12/1000\n",
      "31/54 [================>.............] - ETA: 0s - loss: 1.0618 - accuracy: 0.5832\n",
      "Epoch 12: saving model to model/keypoint_classifier\\keypoint_classifier.hdf5\n",
      "54/54 [==============================] - 0s 3ms/step - loss: 1.0510 - accuracy: 0.5840 - val_loss: 0.5960 - val_accuracy: 0.9464\n",
      "Epoch 13/1000\n",
      "31/54 [================>.............] - ETA: 0s - loss: 0.9986 - accuracy: 0.5912\n",
      "Epoch 13: saving model to model/keypoint_classifier\\keypoint_classifier.hdf5\n",
      "54/54 [==============================] - 0s 3ms/step - loss: 1.0050 - accuracy: 0.5845 - val_loss: 0.5585 - val_accuracy: 0.9302\n",
      "Epoch 14/1000\n",
      "31/54 [================>.............] - ETA: 0s - loss: 0.9648 - accuracy: 0.6104\n",
      "Epoch 14: saving model to model/keypoint_classifier\\keypoint_classifier.hdf5\n",
      "54/54 [==============================] - 0s 3ms/step - loss: 0.9643 - accuracy: 0.6069 - val_loss: 0.5252 - val_accuracy: 0.9631\n",
      "Epoch 15/1000\n",
      "30/54 [===============>..............] - ETA: 0s - loss: 0.9446 - accuracy: 0.6206\n",
      "Epoch 15: saving model to model/keypoint_classifier\\keypoint_classifier.hdf5\n",
      "54/54 [==============================] - 0s 3ms/step - loss: 0.9553 - accuracy: 0.6162 - val_loss: 0.5135 - val_accuracy: 0.9556\n",
      "Epoch 16/1000\n",
      "31/54 [================>.............] - ETA: 0s - loss: 0.9660 - accuracy: 0.6116\n",
      "Epoch 16: saving model to model/keypoint_classifier\\keypoint_classifier.hdf5\n",
      "54/54 [==============================] - 0s 3ms/step - loss: 0.9551 - accuracy: 0.6116 - val_loss: 0.5006 - val_accuracy: 0.9609\n",
      "Epoch 17/1000\n",
      "24/54 [============>.................] - ETA: 0s - loss: 0.9090 - accuracy: 0.6370\n",
      "Epoch 17: saving model to model/keypoint_classifier\\keypoint_classifier.hdf5\n",
      "54/54 [==============================] - 0s 3ms/step - loss: 0.9107 - accuracy: 0.6383 - val_loss: 0.4812 - val_accuracy: 0.9455\n",
      "Epoch 18/1000\n",
      "31/54 [================>.............] - ETA: 0s - loss: 0.8911 - accuracy: 0.6429\n",
      "Epoch 18: saving model to model/keypoint_classifier\\keypoint_classifier.hdf5\n",
      "54/54 [==============================] - 0s 3ms/step - loss: 0.9115 - accuracy: 0.6349 - val_loss: 0.4708 - val_accuracy: 0.9565\n",
      "Epoch 19/1000\n",
      "32/54 [================>.............] - ETA: 0s - loss: 0.9028 - accuracy: 0.6416\n",
      "Epoch 19: saving model to model/keypoint_classifier\\keypoint_classifier.hdf5\n",
      "54/54 [==============================] - 0s 3ms/step - loss: 0.8928 - accuracy: 0.6419 - val_loss: 0.4485 - val_accuracy: 0.9697\n",
      "Epoch 20/1000\n",
      "31/54 [================>.............] - ETA: 0s - loss: 0.8745 - accuracy: 0.6439\n",
      "Epoch 20: saving model to model/keypoint_classifier\\keypoint_classifier.hdf5\n",
      "54/54 [==============================] - 0s 3ms/step - loss: 0.8898 - accuracy: 0.6393 - val_loss: 0.4552 - val_accuracy: 0.9556\n",
      "Epoch 21/1000\n",
      "33/54 [=================>............] - ETA: 0s - loss: 0.8603 - accuracy: 0.6657\n",
      "Epoch 21: saving model to model/keypoint_classifier\\keypoint_classifier.hdf5\n",
      "54/54 [==============================] - 0s 3ms/step - loss: 0.8542 - accuracy: 0.6655 - val_loss: 0.4233 - val_accuracy: 0.9640\n",
      "Epoch 22/1000\n",
      "30/54 [===============>..............] - ETA: 0s - loss: 0.8422 - accuracy: 0.6706\n",
      "Epoch 22: saving model to model/keypoint_classifier\\keypoint_classifier.hdf5\n",
      "54/54 [==============================] - 0s 3ms/step - loss: 0.8524 - accuracy: 0.6633 - val_loss: 0.4088 - val_accuracy: 0.9710\n",
      "Epoch 23/1000\n",
      "30/54 [===============>..............] - ETA: 0s - loss: 0.8140 - accuracy: 0.6862\n",
      "Epoch 23: saving model to model/keypoint_classifier\\keypoint_classifier.hdf5\n",
      "54/54 [==============================] - 0s 3ms/step - loss: 0.8132 - accuracy: 0.6832 - val_loss: 0.3970 - val_accuracy: 0.9657\n",
      "Epoch 24/1000\n",
      "32/54 [================>.............] - ETA: 0s - loss: 0.8285 - accuracy: 0.6726\n",
      "Epoch 24: saving model to model/keypoint_classifier\\keypoint_classifier.hdf5\n",
      "54/54 [==============================] - 0s 3ms/step - loss: 0.8163 - accuracy: 0.6795 - val_loss: 0.3958 - val_accuracy: 0.9671\n",
      "Epoch 25/1000\n",
      "32/54 [================>.............] - ETA: 0s - loss: 0.8049 - accuracy: 0.6797\n",
      "Epoch 25: saving model to model/keypoint_classifier\\keypoint_classifier.hdf5\n",
      "54/54 [==============================] - 0s 3ms/step - loss: 0.8037 - accuracy: 0.6813 - val_loss: 0.3861 - val_accuracy: 0.9609\n",
      "Epoch 26/1000\n",
      "29/54 [===============>..............] - ETA: 0s - loss: 0.7903 - accuracy: 0.6913\n",
      "Epoch 26: saving model to model/keypoint_classifier\\keypoint_classifier.hdf5\n",
      "54/54 [==============================] - 0s 3ms/step - loss: 0.7785 - accuracy: 0.6992 - val_loss: 0.3656 - val_accuracy: 0.9671\n",
      "Epoch 27/1000\n",
      "32/54 [================>.............] - ETA: 0s - loss: 0.7745 - accuracy: 0.7014\n",
      "Epoch 27: saving model to model/keypoint_classifier\\keypoint_classifier.hdf5\n",
      "54/54 [==============================] - 0s 3ms/step - loss: 0.7631 - accuracy: 0.7022 - val_loss: 0.3597 - val_accuracy: 0.9846\n",
      "Epoch 28/1000\n",
      "31/54 [================>.............] - ETA: 0s - loss: 0.7554 - accuracy: 0.7036\n",
      "Epoch 28: saving model to model/keypoint_classifier\\keypoint_classifier.hdf5\n",
      "54/54 [==============================] - 0s 3ms/step - loss: 0.7497 - accuracy: 0.7046 - val_loss: 0.3464 - val_accuracy: 0.9780\n",
      "Epoch 29/1000\n",
      "31/54 [================>.............] - ETA: 0s - loss: 0.7488 - accuracy: 0.7170\n",
      "Epoch 29: saving model to model/keypoint_classifier\\keypoint_classifier.hdf5\n",
      "54/54 [==============================] - 0s 3ms/step - loss: 0.7515 - accuracy: 0.7109 - val_loss: 0.3359 - val_accuracy: 0.9846\n",
      "Epoch 30/1000\n",
      "27/54 [==============>...............] - ETA: 0s - loss: 0.7370 - accuracy: 0.7115\n",
      "Epoch 30: saving model to model/keypoint_classifier\\keypoint_classifier.hdf5\n",
      "54/54 [==============================] - 0s 3ms/step - loss: 0.7363 - accuracy: 0.7128 - val_loss: 0.3239 - val_accuracy: 0.9895\n",
      "Epoch 31/1000\n",
      "31/54 [================>.............] - ETA: 0s - loss: 0.7193 - accuracy: 0.7205\n",
      "Epoch 31: saving model to model/keypoint_classifier\\keypoint_classifier.hdf5\n",
      "54/54 [==============================] - 0s 3ms/step - loss: 0.7169 - accuracy: 0.7258 - val_loss: 0.3271 - val_accuracy: 0.9846\n",
      "Epoch 32/1000\n",
      "31/54 [================>.............] - ETA: 0s - loss: 0.6873 - accuracy: 0.7371\n",
      "Epoch 32: saving model to model/keypoint_classifier\\keypoint_classifier.hdf5\n",
      "54/54 [==============================] - 0s 3ms/step - loss: 0.6988 - accuracy: 0.7352 - val_loss: 0.3111 - val_accuracy: 0.9886\n",
      "Epoch 33/1000\n",
      "32/54 [================>.............] - ETA: 0s - loss: 0.6781 - accuracy: 0.7319\n",
      "Epoch 33: saving model to model/keypoint_classifier\\keypoint_classifier.hdf5\n",
      "54/54 [==============================] - 0s 3ms/step - loss: 0.6753 - accuracy: 0.7371 - val_loss: 0.2940 - val_accuracy: 0.9873\n",
      "Epoch 34/1000\n",
      "33/54 [=================>............] - ETA: 0s - loss: 0.6870 - accuracy: 0.7403\n",
      "Epoch 34: saving model to model/keypoint_classifier\\keypoint_classifier.hdf5\n",
      "54/54 [==============================] - 0s 3ms/step - loss: 0.6838 - accuracy: 0.7431 - val_loss: 0.3039 - val_accuracy: 0.9868\n",
      "Epoch 35/1000\n",
      "32/54 [================>.............] - ETA: 0s - loss: 0.6624 - accuracy: 0.7466\n",
      "Epoch 35: saving model to model/keypoint_classifier\\keypoint_classifier.hdf5\n",
      "54/54 [==============================] - 0s 3ms/step - loss: 0.6722 - accuracy: 0.7447 - val_loss: 0.2920 - val_accuracy: 0.9838\n",
      "Epoch 36/1000\n",
      "31/54 [================>.............] - ETA: 0s - loss: 0.6708 - accuracy: 0.7417\n",
      "Epoch 36: saving model to model/keypoint_classifier\\keypoint_classifier.hdf5\n",
      "54/54 [==============================] - 0s 3ms/step - loss: 0.6693 - accuracy: 0.7422 - val_loss: 0.2947 - val_accuracy: 0.9908\n",
      "Epoch 37/1000\n",
      "28/54 [==============>...............] - ETA: 0s - loss: 0.6704 - accuracy: 0.7453\n",
      "Epoch 37: saving model to model/keypoint_classifier\\keypoint_classifier.hdf5\n",
      "54/54 [==============================] - 0s 3ms/step - loss: 0.6620 - accuracy: 0.7454 - val_loss: 0.2869 - val_accuracy: 0.9908\n",
      "Epoch 38/1000\n",
      "31/54 [================>.............] - ETA: 0s - loss: 0.6544 - accuracy: 0.7510\n",
      "Epoch 38: saving model to model/keypoint_classifier\\keypoint_classifier.hdf5\n",
      "54/54 [==============================] - 0s 3ms/step - loss: 0.6446 - accuracy: 0.7570 - val_loss: 0.2737 - val_accuracy: 0.9908\n",
      "Epoch 39/1000\n",
      "31/54 [================>.............] - ETA: 0s - loss: 0.6550 - accuracy: 0.7543\n",
      "Epoch 39: saving model to model/keypoint_classifier\\keypoint_classifier.hdf5\n",
      "54/54 [==============================] - 0s 3ms/step - loss: 0.6430 - accuracy: 0.7599 - val_loss: 0.2643 - val_accuracy: 0.9952\n",
      "Epoch 40/1000\n",
      "25/54 [============>.................] - ETA: 0s - loss: 0.6275 - accuracy: 0.7653\n",
      "Epoch 40: saving model to model/keypoint_classifier\\keypoint_classifier.hdf5\n",
      "54/54 [==============================] - 0s 3ms/step - loss: 0.6316 - accuracy: 0.7614 - val_loss: 0.2789 - val_accuracy: 0.9917\n",
      "Epoch 41/1000\n",
      "26/54 [=============>................] - ETA: 0s - loss: 0.6246 - accuracy: 0.7659\n",
      "Epoch 41: saving model to model/keypoint_classifier\\keypoint_classifier.hdf5\n",
      "54/54 [==============================] - 0s 3ms/step - loss: 0.6310 - accuracy: 0.7631 - val_loss: 0.2612 - val_accuracy: 0.9934\n",
      "Epoch 42/1000\n",
      "29/54 [===============>..............] - ETA: 0s - loss: 0.6292 - accuracy: 0.7680\n",
      "Epoch 42: saving model to model/keypoint_classifier\\keypoint_classifier.hdf5\n",
      "54/54 [==============================] - 0s 3ms/step - loss: 0.6313 - accuracy: 0.7611 - val_loss: 0.2682 - val_accuracy: 0.9934\n",
      "Epoch 43/1000\n",
      "32/54 [================>.............] - ETA: 0s - loss: 0.6275 - accuracy: 0.7666\n",
      "Epoch 43: saving model to model/keypoint_classifier\\keypoint_classifier.hdf5\n",
      "54/54 [==============================] - 0s 3ms/step - loss: 0.6212 - accuracy: 0.7672 - val_loss: 0.2799 - val_accuracy: 0.9903\n",
      "Epoch 44/1000\n",
      "31/54 [================>.............] - ETA: 0s - loss: 0.6123 - accuracy: 0.7669\n",
      "Epoch 44: saving model to model/keypoint_classifier\\keypoint_classifier.hdf5\n",
      "54/54 [==============================] - 0s 3ms/step - loss: 0.6063 - accuracy: 0.7694 - val_loss: 0.2524 - val_accuracy: 0.9877\n",
      "Epoch 45/1000\n",
      "29/54 [===============>..............] - ETA: 0s - loss: 0.6232 - accuracy: 0.7640\n",
      "Epoch 45: saving model to model/keypoint_classifier\\keypoint_classifier.hdf5\n",
      "54/54 [==============================] - 0s 3ms/step - loss: 0.6195 - accuracy: 0.7650 - val_loss: 0.2682 - val_accuracy: 0.9868\n",
      "Epoch 46/1000\n",
      "38/54 [====================>.........] - ETA: 0s - loss: 0.6053 - accuracy: 0.7724\n",
      "Epoch 46: saving model to model/keypoint_classifier\\keypoint_classifier.hdf5\n",
      "54/54 [==============================] - 0s 3ms/step - loss: 0.6056 - accuracy: 0.7696 - val_loss: 0.2431 - val_accuracy: 0.9925\n",
      "Epoch 47/1000\n",
      "51/54 [===========================>..] - ETA: 0s - loss: 0.5952 - accuracy: 0.7808\n",
      "Epoch 47: saving model to model/keypoint_classifier\\keypoint_classifier.hdf5\n",
      "54/54 [==============================] - 0s 3ms/step - loss: 0.5974 - accuracy: 0.7787 - val_loss: 0.2696 - val_accuracy: 0.9934\n",
      "Epoch 48/1000\n",
      "32/54 [================>.............] - ETA: 0s - loss: 0.6084 - accuracy: 0.7622\n",
      "Epoch 48: saving model to model/keypoint_classifier\\keypoint_classifier.hdf5\n",
      "54/54 [==============================] - 0s 3ms/step - loss: 0.6116 - accuracy: 0.7623 - val_loss: 0.2651 - val_accuracy: 0.9912\n",
      "Epoch 49/1000\n",
      "27/54 [==============>...............] - ETA: 0s - loss: 0.6005 - accuracy: 0.7763\n",
      "Epoch 49: saving model to model/keypoint_classifier\\keypoint_classifier.hdf5\n",
      "54/54 [==============================] - 0s 3ms/step - loss: 0.6076 - accuracy: 0.7706 - val_loss: 0.2680 - val_accuracy: 0.9903\n",
      "Epoch 50/1000\n",
      "27/54 [==============>...............] - ETA: 0s - loss: 0.5923 - accuracy: 0.7775\n",
      "Epoch 50: saving model to model/keypoint_classifier\\keypoint_classifier.hdf5\n",
      "54/54 [==============================] - 0s 3ms/step - loss: 0.5827 - accuracy: 0.7810 - val_loss: 0.2467 - val_accuracy: 0.9908\n",
      "Epoch 51/1000\n",
      "37/54 [===================>..........] - ETA: 0s - loss: 0.5930 - accuracy: 0.7749\n",
      "Epoch 51: saving model to model/keypoint_classifier\\keypoint_classifier.hdf5\n",
      "54/54 [==============================] - 0s 3ms/step - loss: 0.5865 - accuracy: 0.7766 - val_loss: 0.2608 - val_accuracy: 0.9934\n",
      "Epoch 52/1000\n",
      "31/54 [================>.............] - ETA: 0s - loss: 0.5728 - accuracy: 0.7840\n",
      "Epoch 52: saving model to model/keypoint_classifier\\keypoint_classifier.hdf5\n",
      "54/54 [==============================] - 0s 3ms/step - loss: 0.5766 - accuracy: 0.7825 - val_loss: 0.2401 - val_accuracy: 0.9881\n",
      "Epoch 53/1000\n",
      "37/54 [===================>..........] - ETA: 0s - loss: 0.5868 - accuracy: 0.7696\n",
      "Epoch 53: saving model to model/keypoint_classifier\\keypoint_classifier.hdf5\n",
      "54/54 [==============================] - 0s 3ms/step - loss: 0.5825 - accuracy: 0.7741 - val_loss: 0.2323 - val_accuracy: 0.9939\n",
      "Epoch 54/1000\n",
      "34/54 [=================>............] - ETA: 0s - loss: 0.5683 - accuracy: 0.7826\n",
      "Epoch 54: saving model to model/keypoint_classifier\\keypoint_classifier.hdf5\n",
      "54/54 [==============================] - 0s 3ms/step - loss: 0.5732 - accuracy: 0.7826 - val_loss: 0.2301 - val_accuracy: 0.9965\n",
      "Epoch 55/1000\n",
      "35/54 [==================>...........] - ETA: 0s - loss: 0.5739 - accuracy: 0.7810\n",
      "Epoch 55: saving model to model/keypoint_classifier\\keypoint_classifier.hdf5\n",
      "54/54 [==============================] - 0s 3ms/step - loss: 0.5724 - accuracy: 0.7838 - val_loss: 0.2411 - val_accuracy: 0.9943\n",
      "Epoch 56/1000\n",
      "54/54 [==============================] - ETA: 0s - loss: 0.5706 - accuracy: 0.7867\n",
      "Epoch 56: saving model to model/keypoint_classifier\\keypoint_classifier.hdf5\n",
      "54/54 [==============================] - 0s 3ms/step - loss: 0.5706 - accuracy: 0.7867 - val_loss: 0.2595 - val_accuracy: 0.9903\n",
      "Epoch 57/1000\n",
      "31/54 [================>.............] - ETA: 0s - loss: 0.5664 - accuracy: 0.7898\n",
      "Epoch 57: saving model to model/keypoint_classifier\\keypoint_classifier.hdf5\n",
      "54/54 [==============================] - 0s 3ms/step - loss: 0.5578 - accuracy: 0.7923 - val_loss: 0.2381 - val_accuracy: 0.9956\n",
      "Epoch 58/1000\n",
      "40/54 [=====================>........] - ETA: 0s - loss: 0.5559 - accuracy: 0.7865\n",
      "Epoch 58: saving model to model/keypoint_classifier\\keypoint_classifier.hdf5\n",
      "54/54 [==============================] - 0s 3ms/step - loss: 0.5519 - accuracy: 0.7854 - val_loss: 0.2297 - val_accuracy: 0.9939\n",
      "Epoch 59/1000\n",
      "36/54 [===================>..........] - ETA: 0s - loss: 0.5573 - accuracy: 0.7854\n",
      "Epoch 59: saving model to model/keypoint_classifier\\keypoint_classifier.hdf5\n",
      "54/54 [==============================] - 0s 3ms/step - loss: 0.5576 - accuracy: 0.7869 - val_loss: 0.2313 - val_accuracy: 0.9952\n",
      "Epoch 60/1000\n",
      "27/54 [==============>...............] - ETA: 0s - loss: 0.5610 - accuracy: 0.7894\n",
      "Epoch 60: saving model to model/keypoint_classifier\\keypoint_classifier.hdf5\n",
      "54/54 [==============================] - 0s 3ms/step - loss: 0.5651 - accuracy: 0.7869 - val_loss: 0.2275 - val_accuracy: 0.9947\n",
      "Epoch 61/1000\n",
      "36/54 [===================>..........] - ETA: 0s - loss: 0.5423 - accuracy: 0.7980\n",
      "Epoch 61: saving model to model/keypoint_classifier\\keypoint_classifier.hdf5\n",
      "54/54 [==============================] - 0s 3ms/step - loss: 0.5524 - accuracy: 0.7958 - val_loss: 0.2499 - val_accuracy: 0.9838\n",
      "Epoch 62/1000\n",
      "30/54 [===============>..............] - ETA: 0s - loss: 0.5595 - accuracy: 0.7945\n",
      "Epoch 62: saving model to model/keypoint_classifier\\keypoint_classifier.hdf5\n",
      "54/54 [==============================] - 0s 3ms/step - loss: 0.5513 - accuracy: 0.7959 - val_loss: 0.2156 - val_accuracy: 0.9943\n",
      "Epoch 63/1000\n",
      "33/54 [=================>............] - ETA: 0s - loss: 0.5568 - accuracy: 0.7857\n",
      "Epoch 63: saving model to model/keypoint_classifier\\keypoint_classifier.hdf5\n",
      "54/54 [==============================] - 0s 3ms/step - loss: 0.5618 - accuracy: 0.7847 - val_loss: 0.2406 - val_accuracy: 0.9921\n",
      "Epoch 64/1000\n",
      "33/54 [=================>............] - ETA: 0s - loss: 0.5604 - accuracy: 0.7891\n",
      "Epoch 64: saving model to model/keypoint_classifier\\keypoint_classifier.hdf5\n",
      "54/54 [==============================] - 0s 3ms/step - loss: 0.5542 - accuracy: 0.7924 - val_loss: 0.2317 - val_accuracy: 0.9947\n",
      "Epoch 65/1000\n",
      "33/54 [=================>............] - ETA: 0s - loss: 0.5498 - accuracy: 0.7874\n",
      "Epoch 65: saving model to model/keypoint_classifier\\keypoint_classifier.hdf5\n",
      "54/54 [==============================] - 0s 3ms/step - loss: 0.5530 - accuracy: 0.7870 - val_loss: 0.2235 - val_accuracy: 0.9895\n",
      "Epoch 66/1000\n",
      "36/54 [===================>..........] - ETA: 0s - loss: 0.5424 - accuracy: 0.7914\n",
      "Epoch 66: saving model to model/keypoint_classifier\\keypoint_classifier.hdf5\n",
      "54/54 [==============================] - 0s 3ms/step - loss: 0.5385 - accuracy: 0.7986 - val_loss: 0.2306 - val_accuracy: 0.9855\n",
      "Epoch 67/1000\n",
      "37/54 [===================>..........] - ETA: 0s - loss: 0.5396 - accuracy: 0.8043\n",
      "Epoch 67: saving model to model/keypoint_classifier\\keypoint_classifier.hdf5\n",
      "54/54 [==============================] - 0s 3ms/step - loss: 0.5333 - accuracy: 0.8044 - val_loss: 0.2035 - val_accuracy: 0.9965\n",
      "Epoch 68/1000\n",
      "37/54 [===================>..........] - ETA: 0s - loss: 0.5347 - accuracy: 0.8000\n",
      "Epoch 68: saving model to model/keypoint_classifier\\keypoint_classifier.hdf5\n",
      "54/54 [==============================] - 0s 3ms/step - loss: 0.5367 - accuracy: 0.7986 - val_loss: 0.2262 - val_accuracy: 0.9917\n",
      "Epoch 69/1000\n",
      "35/54 [==================>...........] - ETA: 0s - loss: 0.5450 - accuracy: 0.7955\n",
      "Epoch 69: saving model to model/keypoint_classifier\\keypoint_classifier.hdf5\n",
      "54/54 [==============================] - 0s 3ms/step - loss: 0.5498 - accuracy: 0.7946 - val_loss: 0.2264 - val_accuracy: 0.9886\n",
      "Epoch 70/1000\n",
      "32/54 [================>.............] - ETA: 0s - loss: 0.5331 - accuracy: 0.8047\n",
      "Epoch 70: saving model to model/keypoint_classifier\\keypoint_classifier.hdf5\n",
      "54/54 [==============================] - 0s 3ms/step - loss: 0.5373 - accuracy: 0.7958 - val_loss: 0.2237 - val_accuracy: 0.9952\n",
      "Epoch 71/1000\n",
      "40/54 [=====================>........] - ETA: 0s - loss: 0.5300 - accuracy: 0.7967\n",
      "Epoch 71: saving model to model/keypoint_classifier\\keypoint_classifier.hdf5\n",
      "54/54 [==============================] - 0s 3ms/step - loss: 0.5225 - accuracy: 0.8025 - val_loss: 0.2220 - val_accuracy: 0.9912\n",
      "Epoch 72/1000\n",
      "29/54 [===============>..............] - ETA: 0s - loss: 0.5210 - accuracy: 0.8052\n",
      "Epoch 72: saving model to model/keypoint_classifier\\keypoint_classifier.hdf5\n",
      "54/54 [==============================] - 0s 3ms/step - loss: 0.5251 - accuracy: 0.8044 - val_loss: 0.2240 - val_accuracy: 0.9873\n",
      "Epoch 73/1000\n",
      "39/54 [====================>.........] - ETA: 0s - loss: 0.5206 - accuracy: 0.8067\n",
      "Epoch 73: saving model to model/keypoint_classifier\\keypoint_classifier.hdf5\n",
      "54/54 [==============================] - 0s 3ms/step - loss: 0.5140 - accuracy: 0.8076 - val_loss: 0.2302 - val_accuracy: 0.9868\n",
      "Epoch 74/1000\n",
      "30/54 [===============>..............] - ETA: 0s - loss: 0.5398 - accuracy: 0.8029\n",
      "Epoch 74: saving model to model/keypoint_classifier\\keypoint_classifier.hdf5\n",
      "54/54 [==============================] - 0s 3ms/step - loss: 0.5370 - accuracy: 0.8012 - val_loss: 0.2251 - val_accuracy: 0.9846\n",
      "Epoch 75/1000\n",
      "40/54 [=====================>........] - ETA: 0s - loss: 0.5208 - accuracy: 0.8047\n",
      "Epoch 75: saving model to model/keypoint_classifier\\keypoint_classifier.hdf5\n",
      "54/54 [==============================] - 0s 3ms/step - loss: 0.5150 - accuracy: 0.8052 - val_loss: 0.2361 - val_accuracy: 0.9820\n",
      "Epoch 76/1000\n",
      "46/54 [========================>.....] - ETA: 0s - loss: 0.5392 - accuracy: 0.7979\n",
      "Epoch 76: saving model to model/keypoint_classifier\\keypoint_classifier.hdf5\n",
      "54/54 [==============================] - 0s 4ms/step - loss: 0.5351 - accuracy: 0.8002 - val_loss: 0.2484 - val_accuracy: 0.9697\n",
      "Epoch 77/1000\n",
      "29/54 [===============>..............] - ETA: 0s - loss: 0.5330 - accuracy: 0.7993\n",
      "Epoch 77: saving model to model/keypoint_classifier\\keypoint_classifier.hdf5\n",
      "54/54 [==============================] - 0s 3ms/step - loss: 0.5261 - accuracy: 0.7983 - val_loss: 0.2250 - val_accuracy: 0.9912\n",
      "Epoch 78/1000\n",
      "36/54 [===================>..........] - ETA: 0s - loss: 0.5203 - accuracy: 0.7986\n",
      "Epoch 78: saving model to model/keypoint_classifier\\keypoint_classifier.hdf5\n",
      "54/54 [==============================] - 0s 3ms/step - loss: 0.5156 - accuracy: 0.8050 - val_loss: 0.2488 - val_accuracy: 0.9561\n",
      "Epoch 79/1000\n",
      "34/54 [=================>............] - ETA: 0s - loss: 0.5065 - accuracy: 0.8100\n",
      "Epoch 79: saving model to model/keypoint_classifier\\keypoint_classifier.hdf5\n",
      "54/54 [==============================] - 0s 3ms/step - loss: 0.5154 - accuracy: 0.8087 - val_loss: 0.2231 - val_accuracy: 0.9899\n",
      "Epoch 80/1000\n",
      "34/54 [=================>............] - ETA: 0s - loss: 0.5148 - accuracy: 0.8077\n",
      "Epoch 80: saving model to model/keypoint_classifier\\keypoint_classifier.hdf5\n",
      "54/54 [==============================] - 0s 3ms/step - loss: 0.5139 - accuracy: 0.8071 - val_loss: 0.2301 - val_accuracy: 0.9824\n",
      "Epoch 81/1000\n",
      "30/54 [===============>..............] - ETA: 0s - loss: 0.5142 - accuracy: 0.8057\n",
      "Epoch 81: saving model to model/keypoint_classifier\\keypoint_classifier.hdf5\n",
      "54/54 [==============================] - 0s 3ms/step - loss: 0.5189 - accuracy: 0.8057 - val_loss: 0.2286 - val_accuracy: 0.9851\n",
      "Epoch 82/1000\n",
      "34/54 [=================>............] - ETA: 0s - loss: 0.5093 - accuracy: 0.8143\n",
      "Epoch 82: saving model to model/keypoint_classifier\\keypoint_classifier.hdf5\n",
      "54/54 [==============================] - 0s 3ms/step - loss: 0.5219 - accuracy: 0.8056 - val_loss: 0.2147 - val_accuracy: 0.9956\n",
      "Epoch 83/1000\n",
      "33/54 [=================>............] - ETA: 0s - loss: 0.5192 - accuracy: 0.8097\n",
      "Epoch 83: saving model to model/keypoint_classifier\\keypoint_classifier.hdf5\n",
      "54/54 [==============================] - 0s 3ms/step - loss: 0.5131 - accuracy: 0.8109 - val_loss: 0.2079 - val_accuracy: 0.9912\n",
      "Epoch 84/1000\n",
      "32/54 [================>.............] - ETA: 0s - loss: 0.5071 - accuracy: 0.8069\n",
      "Epoch 84: saving model to model/keypoint_classifier\\keypoint_classifier.hdf5\n",
      "54/54 [==============================] - 0s 3ms/step - loss: 0.5184 - accuracy: 0.8016 - val_loss: 0.2651 - val_accuracy: 0.9556\n",
      "Epoch 85/1000\n",
      "36/54 [===================>..........] - ETA: 0s - loss: 0.5038 - accuracy: 0.8114\n",
      "Epoch 85: saving model to model/keypoint_classifier\\keypoint_classifier.hdf5\n",
      "54/54 [==============================] - 0s 3ms/step - loss: 0.5040 - accuracy: 0.8129 - val_loss: 0.2177 - val_accuracy: 0.9912\n",
      "Epoch 86/1000\n",
      "39/54 [====================>.........] - ETA: 0s - loss: 0.5117 - accuracy: 0.8055\n",
      "Epoch 86: saving model to model/keypoint_classifier\\keypoint_classifier.hdf5\n",
      "54/54 [==============================] - 0s 3ms/step - loss: 0.5036 - accuracy: 0.8085 - val_loss: 0.2411 - val_accuracy: 0.9776\n",
      "Epoch 87/1000\n",
      "36/54 [===================>..........] - ETA: 0s - loss: 0.5216 - accuracy: 0.8001\n",
      "Epoch 87: saving model to model/keypoint_classifier\\keypoint_classifier.hdf5\n",
      "54/54 [==============================] - 0s 3ms/step - loss: 0.5151 - accuracy: 0.8075 - val_loss: 0.2617 - val_accuracy: 0.9363\n",
      "Epoch 87: early stopping\n"
     ]
    },
    {
     "data": {
      "text/plain": [
       "<keras.src.callbacks.History at 0x20ee2e0c350>"
      ]
     },
     "execution_count": 11,
     "metadata": {},
     "output_type": "execute_result"
    }
   ],
   "source": [
    "model.fit(\n",
    "    X_train,\n",
    "    y_train,\n",
    "    epochs=1000,\n",
    "    batch_size=128,\n",
    "    validation_data=(X_test, y_test),\n",
    "    callbacks=[cp_callback, es_callback]\n",
    ")"
   ]
  },
  {
   "cell_type": "code",
   "execution_count": 12,
   "metadata": {
    "colab": {
     "base_uri": "https://localhost:8080/"
    },
    "id": "pxvb2Y299hE3",
    "outputId": "59eb3185-2e37-4b9e-bc9d-ab1b8ac29b7f"
   },
   "outputs": [
    {
     "name": "stdout",
     "output_type": "stream",
     "text": [
      "18/18 [==============================] - 0s 2ms/step - loss: 0.2617 - accuracy: 0.9363\n"
     ]
    }
   ],
   "source": [
    "# Model evaluation\n",
    "val_loss, val_acc = model.evaluate(X_test, y_test, batch_size=128)"
   ]
  },
  {
   "cell_type": "code",
   "execution_count": 13,
   "metadata": {
    "id": "RBkmDeUW9hE4"
   },
   "outputs": [],
   "source": [
    "# Loading the saved model\n",
    "model = tf.keras.models.load_model(model_save_path)"
   ]
  },
  {
   "cell_type": "code",
   "execution_count": 14,
   "metadata": {
    "colab": {
     "base_uri": "https://localhost:8080/"
    },
    "id": "tFz9Tb0I9hE4",
    "outputId": "1c3b3528-54ae-4ee2-ab04-77429211cbef"
   },
   "outputs": [
    {
     "name": "stdout",
     "output_type": "stream",
     "text": [
      "1/1 [==============================] - 0s 84ms/step\n",
      "[0.01494138 0.0029934  0.117207   0.00622352 0.00391682 0.85471797]\n",
      "5\n"
     ]
    }
   ],
   "source": [
    "# Inference test\n",
    "predict_result = model.predict(np.array([X_test[0]]))\n",
    "print(np.squeeze(predict_result))\n",
    "print(np.argmax(np.squeeze(predict_result)))"
   ]
  },
  {
   "cell_type": "markdown",
   "metadata": {
    "id": "S3U4yNWx9hE4"
   },
   "source": [
    "# Confusion matrix"
   ]
  },
  {
   "cell_type": "code",
   "execution_count": 15,
   "metadata": {
    "colab": {
     "base_uri": "https://localhost:8080/",
     "height": 582
    },
    "id": "AP1V6SCk9hE5",
    "outputId": "08e41a80-7a4a-4619-8125-ecc371368d19"
   },
   "outputs": [
    {
     "name": "stdout",
     "output_type": "stream",
     "text": [
      "72/72 [==============================] - 0s 881us/step\n"
     ]
    },
    {
     "data": {
      "image/png": "[encoded data removed]",
      "text/plain": [
       "<Figure size 700x600 with 2 Axes>"
      ]
     },
     "metadata": {},
     "output_type": "display_data"
    },
    {
     "name": "stdout",
     "output_type": "stream",
     "text": [
      "Classification Report\n",
      "              precision    recall  f1-score   support\n",
      "\n",
      "           0       1.00      0.66      0.80       388\n",
      "           1       0.99      1.00      0.99       361\n",
      "           2       0.98      0.99      0.98       391\n",
      "           3       1.00      0.99      1.00       376\n",
      "           4       0.75      0.99      0.85       384\n",
      "           5       0.98      1.00      0.99       377\n",
      "\n",
      "    accuracy                           0.94      2277\n",
      "   macro avg       0.95      0.94      0.94      2277\n",
      "weighted avg       0.95      0.94      0.93      2277\n",
      "\n"
     ]
    }
   ],
   "source": [
    "import pandas as pd\n",
    "import seaborn as sns\n",
    "import matplotlib.pyplot as plt\n",
    "from sklearn.metrics import confusion_matrix, classification_report\n",
    "\n",
    "def print_confusion_matrix(y_true, y_pred, report=True):\n",
    "    labels = sorted(list(set(y_true)))\n",
    "    cmx_data = confusion_matrix(y_true, y_pred, labels=labels)\n",
    "    \n",
    "    df_cmx = pd.DataFrame(cmx_data, index=labels, columns=labels)\n",
    " \n",
    "    fig, ax = plt.subplots(figsize=(7, 6))\n",
    "    sns.heatmap(df_cmx, annot=True, fmt='g' ,square=False)\n",
    "    ax.set_ylim(len(set(y_true)), 0)\n",
    "    plt.show()\n",
    "    \n",
    "    if report:\n",
    "        print('Classification Report')\n",
    "        print(classification_report(y_test, y_pred))\n",
    "\n",
    "Y_pred = model.predict(X_test)\n",
    "y_pred = np.argmax(Y_pred, axis=1)\n",
    "\n",
    "print_confusion_matrix(y_test, y_pred)"
   ]
  },
  {
   "cell_type": "markdown",
   "metadata": {
    "id": "FNP6aqzc9hE5"
   },
   "source": [
    "# Convert to model for Tensorflow-Lite"
   ]
  },
  {
   "cell_type": "code",
   "execution_count": 16,
   "metadata": {
    "id": "ODjnYyld9hE6"
   },
   "outputs": [
    {
     "name": "stderr",
     "output_type": "stream",
     "text": [
      "C:\\Users\\Nguyen Ngoc Huy\\AppData\\Local\\Programs\\Python\\Python311\\Lib\\site-packages\\keras\\src\\engine\\training.py:3000: UserWarning: You are saving your model as an HDF5 file via `model.save()`. This file format is considered legacy. We recommend using instead the native Keras format, e.g. `model.save('my_model.keras')`.\n",
      "  saving_api.save_model(\n"
     ]
    }
   ],
   "source": [
    "# Save as a model dedicated to inference\n",
    "model.save(model_save_path, include_optimizer=False)"
   ]
  },
  {
   "cell_type": "code",
   "execution_count": 17,
   "metadata": {
    "colab": {
     "base_uri": "https://localhost:8080/"
    },
    "id": "zRfuK8Y59hE6",
    "outputId": "a4ca585c-b5d5-4244-8291-8674063209bb"
   },
   "outputs": [
    {
     "name": "stdout",
     "output_type": "stream",
     "text": [
      "INFO:tensorflow:Assets written to: C:\\Users\\NGUYEN~1\\AppData\\Local\\Temp\\tmp967sesmn\\assets\n"
     ]
    },
    {
     "name": "stderr",
     "output_type": "stream",
     "text": [
      "INFO:tensorflow:Assets written to: C:\\Users\\NGUYEN~1\\AppData\\Local\\Temp\\tmp967sesmn\\assets\n"
     ]
    },
    {
     "data": {
      "text/plain": [
       "6632"
      ]
     },
     "execution_count": 17,
     "metadata": {},
     "output_type": "execute_result"
    }
   ],
   "source": [
    "# Transform model (quantization)\n",
    "\n",
    "converter = tf.lite.TFLiteConverter.from_keras_model(model)\n",
    "converter.optimizations = [tf.lite.Optimize.DEFAULT]\n",
    "tflite_quantized_model = converter.convert()\n",
    "\n",
    "open(tflite_save_path, 'wb').write(tflite_quantized_model)"
   ]
  },
  {
   "cell_type": "markdown",
   "metadata": {
    "id": "CHBPBXdx9hE6"
   },
   "source": [
    "# Inference test"
   ]
  },
  {
   "cell_type": "code",
   "execution_count": 18,
   "metadata": {
    "id": "mGAzLocO9hE7"
   },
   "outputs": [],
   "source": [
    "interpreter = tf.lite.Interpreter(model_path=tflite_save_path)\n",
    "interpreter.allocate_tensors()"
   ]
  },
  {
   "cell_type": "code",
   "execution_count": 19,
   "metadata": {
    "id": "oQuDK8YS9hE7"
   },
   "outputs": [],
   "source": [
    "# Get I / O tensor\n",
    "input_details = interpreter.get_input_details()\n",
    "output_details = interpreter.get_output_details()"
   ]
  },
  {
   "cell_type": "code",
   "execution_count": 20,
   "metadata": {
    "id": "2_ixAf_l9hE7"
   },
   "outputs": [],
   "source": [
    "interpreter.set_tensor(input_details[0]['index'], np.array([X_test[0]]))"
   ]
  },
  {
   "cell_type": "code",
   "execution_count": 21,
   "metadata": {
    "colab": {
     "base_uri": "https://localhost:8080/"
    },
    "id": "s4FoAnuc9hE7",
    "outputId": "91f18257-8d8b-4ef3-c558-e9b5f94fabbf",
    "scrolled": true
   },
   "outputs": [
    {
     "name": "stdout",
     "output_type": "stream",
     "text": [
      "CPU times: total: 15.6 ms\n",
      "Wall time: 1 ms\n"
     ]
    }
   ],
   "source": [
    "%%time\n",
    "# Inference implementation\n",
    "interpreter.invoke()\n",
    "tflite_results = interpreter.get_tensor(output_details[0]['index'])"
   ]
  },
  {
   "cell_type": "code",
   "execution_count": 22,
   "metadata": {
    "colab": {
     "base_uri": "https://localhost:8080/"
    },
    "id": "vONjp19J9hE8",
    "outputId": "77205e24-fd00-42c4-f7b6-e06e527c2cba"
   },
   "outputs": [
    {
     "name": "stdout",
     "output_type": "stream",
     "text": [
      "[0.01494137 0.0029934  0.117207   0.00622352 0.00391682 0.8547178 ]\n",
      "5\n"
     ]
    }
   ],
   "source": [
    "print(np.squeeze(tflite_results))\n",
    "print(np.argmax(np.squeeze(tflite_results)))"
   ]
  }
 ],
 "metadata": {
  "accelerator": "GPU",
  "colab": {
   "collapsed_sections": [],
   "name": "keypoint_classification_EN.ipynb",
   "provenance": [],
   "toc_visible": true
  },
  "kernelspec": {
   "display_name": "Python 3 (ipykernel)",
   "language": "python",
   "name": "python3"
  },
  "language_info": {
   "codemirror_mode": {
    "name": "ipython",
    "version": 3
   },
   "file_extension": ".py",
   "mimetype": "text/x-python",
   "name": "python",
   "nbconvert_exporter": "python",
   "pygments_lexer": "ipython3",
   "version": "3.11.5"
  }
 },
 "nbformat": 4,
 "nbformat_minor": 4
}
